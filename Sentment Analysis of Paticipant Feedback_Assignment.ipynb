{
 "cells": [
  {
   "cell_type": "code",
   "execution_count": 1,
   "id": "cef8fbad-fb5c-46c3-bccb-1963f1c04622",
   "metadata": {
    "tags": []
   },
   "outputs": [],
   "source": [
    "# Importing necessary libraries for sentinemnt analysis (TextBlob) and data manipulation(pandas)\n",
    "## !! pip install textblob\n",
    "from textblob import TextBlob\n",
    "import pandas as pd"
   ]
  },
  {
   "cell_type": "code",
   "execution_count": 2,
   "id": "0932cce3-4814-4374-a550-e7575c436b5f",
   "metadata": {
    "tags": []
   },
   "outputs": [],
   "source": [
    "# Sample participant feedback data from the C.H.F.Project \n",
    "feedback = [\n",
    "    \"The event was a great success!\",\n",
    "    \"Not enough activities for children.\",\n",
    "    \"Excellent organization and friendly staff.\",\n",
    "    \"The food stalls were too expensive.\",\n",
    "    \"Enjoyed the health screenings and workshops.\",\n",
    "    \"The event felt a bit disorganized.\",\n",
    "    \"Great initiative, looking forward to next year.\",\n",
    "    \"More variety in health screenings needed.\",\n",
    "    \"Had a wonderful time, very informative.\",\n",
    "    \"The location was hard to find.\"   \n",
    "]"
   ]
  },
  {
   "cell_type": "code",
   "execution_count": 3,
   "id": "2928fcdf-1033-4f8e-b216-ea300b10b89d",
   "metadata": {
    "tags": []
   },
   "outputs": [],
   "source": [
    "# Analyzing the sentiment of each feedback\n",
    "sentiment_scores = [TextBlob(fb).sentiment.polarity for fb in feedback]"
   ]
  },
  {
   "cell_type": "code",
   "execution_count": 4,
   "id": "aa0bde2e-e7d3-473c-a240-353ce21a83aa",
   "metadata": {
    "tags": []
   },
   "outputs": [],
   "source": [
    "# Creating a Dataframe for feedback and their sentiment scores\n",
    "df_feedback = pd.DataFrame({\n",
    "    'Feedback': feedback,\n",
    "    'Sentiment Score': sentiment_scores\n",
    "})"
   ]
  },
  {
   "cell_type": "code",
   "execution_count": 5,
   "id": "d3084f0a-0302-49e5-a510-4151bd75d685",
   "metadata": {
    "tags": []
   },
   "outputs": [
    {
     "name": "stdout",
     "output_type": "stream",
     "text": [
      "                                          Feedback  Sentiment Score\n",
      "0                   The event was a great success!         0.587500\n",
      "1              Not enough activities for children.         0.000000\n",
      "2       Excellent organization and friendly staff.         0.687500\n",
      "3              The food stalls were too expensive.        -0.500000\n",
      "4     Enjoyed the health screenings and workshops.         0.500000\n",
      "5               The event felt a bit disorganized.         0.000000\n",
      "6  Great initiative, looking forward to next year.         0.400000\n",
      "7        More variety in health screenings needed.         0.500000\n",
      "8          Had a wonderful time, very informative.         0.600000\n",
      "9                   The location was hard to find.        -0.291667\n"
     ]
    }
   ],
   "source": [
    "# Output the sentiment scores\n",
    "print(df_feedback)"
   ]
  },
  {
   "cell_type": "code",
   "execution_count": 5,
   "id": "0d4f4a4e-e344-4dc7-9d94-0b6051b1dce0",
   "metadata": {
    "tags": []
   },
   "outputs": [
    {
     "name": "stdout",
     "output_type": "stream",
     "text": [
      "                                          Feedback  Sentiment Score\n",
      "0                   The event was a great success!         0.587500\n",
      "1              Not enough activities for children.         0.000000\n",
      "2       Excellent organization and friendly staff.         0.687500\n",
      "3              The food stalls were too expensive.        -0.500000\n",
      "4     Enjoyed the health screenings and workshops.         0.500000\n",
      "5               The event felt a bit disorganized.         0.000000\n",
      "6  Great initiative, looking forward to next year.         0.400000\n",
      "7        More variety in health screenings needed.         0.500000\n",
      "8          Had a wonderful time, very informative.         0.600000\n",
      "9                   The location was hard to find.        -0.291667\n"
     ]
    }
   ],
   "source": [
    "# Output the sentiment scores\n",
    "print(df_feedback)"
   ]
  },
  {
   "cell_type": "code",
   "execution_count": null,
   "id": "885724a6-0d66-47bd-a584-b310e60ef752",
   "metadata": {},
   "outputs": [],
   "source": []
  }
 ],
 "metadata": {
  "kernelspec": {
   "display_name": "Python 3 (ipykernel)",
   "language": "python",
   "name": "python3"
  },
  "language_info": {
   "codemirror_mode": {
    "name": "ipython",
    "version": 3
   },
   "file_extension": ".py",
   "mimetype": "text/x-python",
   "name": "python",
   "nbconvert_exporter": "python",
   "pygments_lexer": "ipython3",
   "version": "3.12.4"
  }
 },
 "nbformat": 4,
 "nbformat_minor": 5
}
