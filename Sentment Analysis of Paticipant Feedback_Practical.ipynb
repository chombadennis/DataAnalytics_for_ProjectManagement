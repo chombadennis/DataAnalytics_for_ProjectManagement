{
 "cells": [
  {
   "cell_type": "code",
   "execution_count": 1,
   "id": "cef8fbad-fb5c-46c3-bccb-1963f1c04622",
   "metadata": {
    "tags": []
   },
   "outputs": [],
   "source": [
    "# Importing necessary libraries for sentinemnt analysis (TextBlob) and data manipulation(pandas)\n",
    "## !! pip install textblob\n",
    "from textblob import TextBlob\n",
    "import pandas as pd"
   ]
  },
  {
   "cell_type": "code",
   "execution_count": 2,
   "id": "0932cce3-4814-4374-a550-e7575c436b5f",
   "metadata": {
    "tags": []
   },
   "outputs": [],
   "source": [
    "# Sample participant feedback data from the C.H.F.Project \n",
    "feedback = [\n",
    "    \"The health workshops were very informative and engaging\",\n",
    "    \"I found the event organizing to be lacking\", \n",
    "    \"Great atmosphere and helpful staff\",\n",
    "    \"The promotion activities wee not very intersting\",\n",
    "    \"Loved the interactive sessions, very well done\", \n",
    "    \"The event was poorly managed\",\n",
    "    \"Fantastic experience with lots of learning \",\n",
    "    \"Some workshops were too crowded\"\n",
    "    \"Extremely satisfied with the health screenings\"\n",
    "    \"The scheduling of events could be better\"\n",
    "]"
   ]
  },
  {
   "cell_type": "code",
   "execution_count": 3,
   "id": "2928fcdf-1033-4f8e-b216-ea300b10b89d",
   "metadata": {
    "tags": []
   },
   "outputs": [],
   "source": [
    "# Analyzing the sentiment of each feedback\n",
    "sentiment_scores = [TextBlob(fb).sentiment.polarity for fb in feedback]"
   ]
  },
  {
   "cell_type": "code",
   "execution_count": 4,
   "id": "aa0bde2e-e7d3-473c-a240-353ce21a83aa",
   "metadata": {
    "tags": []
   },
   "outputs": [],
   "source": [
    "# Creating a Dataframe for feedback and their sentiment scores\n",
    "df_feedback = pd.DataFrame({\n",
    "    'Feedback': feedback,\n",
    "    'Sentiment Score': sentiment_scores\n",
    "})"
   ]
  },
  {
   "cell_type": "code",
   "execution_count": 5,
   "id": "18ee2add-40a6-42d5-8403-6c1e8563d5e8",
   "metadata": {
    "tags": []
   },
   "outputs": [
    {
     "name": "stdout",
     "output_type": "stream",
     "text": [
      "                                            Feedback  Sentiment Score\n",
      "0  The health workshops were very informative and...             0.30\n",
      "1         I found the event organizing to be lacking             0.00\n",
      "2                 Great atmosphere and helpful staff             0.80\n",
      "3   The promotion activities wee not very intersting            -0.10\n",
      "4     Loved the interactive sessions, very well done             0.45\n",
      "5                       The event was poorly managed            -0.40\n",
      "6        Fantastic experience with lots of learning              0.40\n",
      "7  Some workshops were too crowdedExtremely satis...             0.50\n"
     ]
    }
   ],
   "source": [
    "# Output the sentiment scores\n",
    "print(df_feedback)"
   ]
  },
  {
   "cell_type": "code",
   "execution_count": null,
   "id": "885724a6-0d66-47bd-a584-b310e60ef752",
   "metadata": {},
   "outputs": [],
   "source": []
  }
 ],
 "metadata": {
  "kernelspec": {
   "display_name": "Python 3 (ipykernel)",
   "language": "python",
   "name": "python3"
  },
  "language_info": {
   "codemirror_mode": {
    "name": "ipython",
    "version": 3
   },
   "file_extension": ".py",
   "mimetype": "text/x-python",
   "name": "python",
   "nbconvert_exporter": "python",
   "pygments_lexer": "ipython3",
   "version": "3.12.4"
  }
 },
 "nbformat": 4,
 "nbformat_minor": 5
}
